{
 "cells": [
  {
   "cell_type": "code",
   "execution_count": 2,
   "metadata": {},
   "outputs": [],
   "source": [
    "import sqlite3 \n",
    "import csv \n",
    "import pandas as pd"
   ]
  },
  {
   "cell_type": "code",
   "execution_count": 14,
   "metadata": {},
   "outputs": [],
   "source": [
    "#databse creation\n",
    "con = sqlite3.connect('online_delivery.db')\n",
    "cursor = con.cursor()\n",
    "\n",
    "#table creation\n",
    "create_table = \"\"\"CREATE TABLE online_orders (\n",
    "                        id INTEGER PRIMARY KEY,\n",
    "                        area TEXT,\n",
    "                        city varchar(100),\n",
    "                        restaurant TEXT,\n",
    "                        price INTEGER,\n",
    "                        rating decimal(2,1),\n",
    "                        total_rating INTEGER,\n",
    "                        food_type TEXT,\n",
    "                        address TEXT,\n",
    "                        delivery_time INTEGER);\n",
    "                \"\"\"\n",
    "\n",
    "cursor.execute(create_table)\n",
    "\n",
    "#data insertion\n",
    "with open('swiggy.csv') as f:\n",
    "    data = csv.reader(f)\n",
    "    for row in data:\n",
    "        if row[0]=='ID':\n",
    "            continue\n",
    "        cursor.execute(\"INSERT INTO online_orders VALUES (?, ?, ?, ?, ?, ?, ?, ?, ?, ?)\", (row[0], row[1], row[2], row[3], row[4], row[5], row[6], row[7], row[8], row[9]))\n",
    "con.commit()\n",
    "con.close()"
   ]
  }
 ],
 "metadata": {
  "kernelspec": {
   "display_name": "Python 3",
   "language": "python",
   "name": "python3"
  },
  "language_info": {
   "codemirror_mode": {
    "name": "ipython",
    "version": 3
   },
   "file_extension": ".py",
   "mimetype": "text/x-python",
   "name": "python",
   "nbconvert_exporter": "python",
   "pygments_lexer": "ipython3",
   "version": "3.12.3"
  }
 },
 "nbformat": 4,
 "nbformat_minor": 2
}
